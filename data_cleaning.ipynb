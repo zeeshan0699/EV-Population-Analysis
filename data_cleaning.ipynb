{
 "cells": [
  {
   "cell_type": "code",
   "execution_count": 1,
   "id": "4d3ace61-423c-4225-b632-f5652a515ad8",
   "metadata": {},
   "outputs": [],
   "source": [
    "import numpy as np\n",
    "import pandas as pd"
   ]
  },
  {
   "cell_type": "code",
   "execution_count": 2,
   "id": "4018199c-4b77-4d2f-a3cf-63afc199e040",
   "metadata": {},
   "outputs": [
    {
     "name": "stdout",
     "output_type": "stream",
     "text": [
      "C:\\Users\\zeekk\n"
     ]
    }
   ],
   "source": [
    "import os\n",
    "print(os.getcwd())"
   ]
  },
  {
   "cell_type": "markdown",
   "id": "fe7c1601-7e39-4d0a-8404-13b094dbf1ff",
   "metadata": {},
   "source": [
    "# Assistant\n",
    "The selected code `df = pd.read_csv('Electric_Vehicle_Population_Data.csv')` performs the following steps:\n",
    "\n",
    "1. **Importing Data**: This line uses the `read_csv()` function from the `pandas` library to read data from a CSV (Comma-Separated Values) file.\n",
    "\n",
    "2. **File Path**: The string `'Electric_Vehicle_Population_Data.csv'` specifies the name of the CSV file to be read. This file should be located in the current working directory or the specified path.\n",
    "\n",
    "3. **DataFrame Creation**: The result of the `read_csv()` function is assigned to the variable `df`, which will be a Pandas DataFrame. This DataFrame will contain the data from the CSV file, organized in a tabular format with rows and columns.\n",
    "\n",
    "In summary, this line of code loads the electric vehicle population data from a CSV file into a Pandas DataFrame for further analysis or manipulation."
   ]
  },
  {
   "cell_type": "code",
   "execution_count": 4,
   "id": "824e353b-9aab-428d-87f6-6a3c80e79195",
   "metadata": {},
   "outputs": [],
   "source": [
    "df = pd.read_csv(r\"C:\\Users\\zeekk\\OneDrive\\Desktop\\Data_Analysis_Portfolio_Datasets\\Electric_Vehicle_Population_Data.csv\")"
   ]
  },
  {
   "cell_type": "code",
   "execution_count": 5,
   "id": "c94cd678-a6ad-441b-9f45-c910bf359b63",
   "metadata": {},
   "outputs": [
    {
     "name": "stdout",
     "output_type": "stream",
     "text": [
      "<class 'pandas.core.frame.DataFrame'>\n",
      "RangeIndex: 223995 entries, 0 to 223994\n",
      "Data columns (total 17 columns):\n",
      " #   Column                                             Non-Null Count   Dtype  \n",
      "---  ------                                             --------------   -----  \n",
      " 0   VIN (1-10)                                         223995 non-null  object \n",
      " 1   County                                             223992 non-null  object \n",
      " 2   City                                               223992 non-null  object \n",
      " 3   State                                              223995 non-null  object \n",
      " 4   Postal Code                                        223992 non-null  float64\n",
      " 5   Model Year                                         223995 non-null  int64  \n",
      " 6   Make                                               223995 non-null  object \n",
      " 7   Model                                              223995 non-null  object \n",
      " 8   Electric Vehicle Type                              223995 non-null  object \n",
      " 9   Clean Alternative Fuel Vehicle (CAFV) Eligibility  223995 non-null  object \n",
      " 10  Electric Range                                     223977 non-null  float64\n",
      " 11  Base MSRP                                          223977 non-null  float64\n",
      " 12  Legislative District                               223521 non-null  float64\n",
      " 13  DOL Vehicle ID                                     223995 non-null  int64  \n",
      " 14  Vehicle Location                                   223985 non-null  object \n",
      " 15  Electric Utility                                   223992 non-null  object \n",
      " 16  2020 Census Tract                                  223992 non-null  float64\n",
      "dtypes: float64(5), int64(2), object(10)\n",
      "memory usage: 29.1+ MB\n",
      "None\n"
     ]
    }
   ],
   "source": [
    "print (df.info())"
   ]
  },
  {
   "cell_type": "code",
   "execution_count": 6,
   "id": "36286f43-9a47-4e9d-b1b8-84b1ac27cf54",
   "metadata": {},
   "outputs": [
    {
     "name": "stdout",
     "output_type": "stream",
     "text": [
      "VIN (1-10)                                             0\n",
      "County                                                 3\n",
      "City                                                   3\n",
      "State                                                  0\n",
      "Postal Code                                            3\n",
      "Model Year                                             0\n",
      "Make                                                   0\n",
      "Model                                                  0\n",
      "Electric Vehicle Type                                  0\n",
      "Clean Alternative Fuel Vehicle (CAFV) Eligibility      0\n",
      "Electric Range                                        18\n",
      "Base MSRP                                             18\n",
      "Legislative District                                 474\n",
      "DOL Vehicle ID                                         0\n",
      "Vehicle Location                                      10\n",
      "Electric Utility                                       3\n",
      "2020 Census Tract                                      3\n",
      "dtype: int64\n"
     ]
    }
   ],
   "source": [
    "print (df.isnull().sum())"
   ]
  },
  {
   "cell_type": "code",
   "execution_count": 7,
   "id": "853ed65c-d490-45f2-b586-e93166683f70",
   "metadata": {},
   "outputs": [
    {
     "name": "stdout",
     "output_type": "stream",
     "text": [
      "         Postal Code     Model Year  Electric Range      Base MSRP  \\\n",
      "count  223992.000000  223995.000000   223977.000000  223977.000000   \n",
      "mean    98176.491165    2021.264408       47.736187     829.894386   \n",
      "std      2544.240509       2.989676       84.987140    7372.509049   \n",
      "min      1731.000000    1999.000000        0.000000       0.000000   \n",
      "25%     98052.000000    2020.000000        0.000000       0.000000   \n",
      "50%     98126.000000    2022.000000        0.000000       0.000000   \n",
      "75%     98374.000000    2023.000000       39.000000       0.000000   \n",
      "max     99577.000000    2025.000000      337.000000  845000.000000   \n",
      "\n",
      "       Legislative District  DOL Vehicle ID  2020 Census Tract  \n",
      "count         223521.000000    2.239950e+05       2.239920e+05  \n",
      "mean              28.876361    2.329328e+08       5.297997e+10  \n",
      "std               14.911023    6.884329e+07       1.531491e+09  \n",
      "min                1.000000    4.385000e+03       1.001020e+09  \n",
      "25%               17.000000    2.008002e+08       5.303301e+10  \n",
      "50%               32.000000    2.482992e+08       5.303303e+10  \n",
      "75%               42.000000    2.673973e+08       5.305307e+10  \n",
      "max               49.000000    4.792548e+08       5.602100e+10  \n"
     ]
    }
   ],
   "source": [
    "print (df.describe())"
   ]
  },
  {
   "cell_type": "code",
   "execution_count": 8,
   "id": "47fddaf8-6744-4d55-8f7b-596981fe544a",
   "metadata": {},
   "outputs": [],
   "source": [
    "df = df.drop_duplicates()\n"
   ]
  },
  {
   "cell_type": "code",
   "execution_count": 18,
   "id": "fc8bd229-281b-4c26-a91f-fbb5111228d1",
   "metadata": {},
   "outputs": [],
   "source": [
    "columns_to_delete = [\"VIN (1-10)\",\"Postal Code\", \"Electric Range\", \"Base MSRP\",\"Legislative District\", \"DOL Vehicle ID\", \"2020 Census Tract\", \"Vehicle Location\" ]  # Replace with actual column names\n",
    "df = df.drop(columns=columns_to_delete)\n",
    "\n"
   ]
  },
  {
   "cell_type": "code",
   "execution_count": 20,
   "id": "dee36e62-7652-4c98-9e46-e13dcb8fadf3",
   "metadata": {},
   "outputs": [
    {
     "name": "stdout",
     "output_type": "stream",
     "text": [
      "<class 'pandas.core.frame.DataFrame'>\n",
      "RangeIndex: 223995 entries, 0 to 223994\n",
      "Data columns (total 9 columns):\n",
      " #   Column                                             Non-Null Count   Dtype \n",
      "---  ------                                             --------------   ----- \n",
      " 0   County                                             223992 non-null  object\n",
      " 1   City                                               223992 non-null  object\n",
      " 2   State                                              223995 non-null  object\n",
      " 3   Model Year                                         223995 non-null  int64 \n",
      " 4   Make                                               223995 non-null  object\n",
      " 5   Model                                              223995 non-null  object\n",
      " 6   Electric Vehicle Type                              223995 non-null  object\n",
      " 7   Clean Alternative Fuel Vehicle (CAFV) Eligibility  223995 non-null  object\n",
      " 8   Electric Utility                                   223992 non-null  object\n",
      "dtypes: int64(1), object(8)\n",
      "memory usage: 15.4+ MB\n",
      "None\n"
     ]
    }
   ],
   "source": [
    "print (df.info())"
   ]
  },
  {
   "cell_type": "code",
   "execution_count": 24,
   "id": "4dc54a1c-f4b8-4836-8cdb-31aed9680bd6",
   "metadata": {},
   "outputs": [],
   "source": [
    "df = df[df[\"Model Year\"] != 2025]"
   ]
  },
  {
   "cell_type": "code",
   "execution_count": 42,
   "id": "2495c66b-d628-4b1e-a105-bfe211295b2b",
   "metadata": {},
   "outputs": [
    {
     "name": "stdout",
     "output_type": "stream",
     "text": [
      "[1999 2000 2002 2003 2008 2010 2011 2012 2013 2014 2015 2016 2017 2018\n",
      " 2019 2020 2021 2022 2023 2024]\n"
     ]
    }
   ],
   "source": [
    "print(pd.Series(df['Model Year'].unique()).sort_values(ascending=True).values)\n"
   ]
  },
  {
   "cell_type": "code",
   "execution_count": 44,
   "id": "6dde775f-d463-4489-9c93-0aa098b25b5e",
   "metadata": {},
   "outputs": [
    {
     "name": "stdout",
     "output_type": "stream",
     "text": [
      "<class 'pandas.core.frame.DataFrame'>\n",
      "Index: 218988 entries, 0 to 223994\n",
      "Data columns (total 9 columns):\n",
      " #   Column                                             Non-Null Count   Dtype \n",
      "---  ------                                             --------------   ----- \n",
      " 0   County                                             218985 non-null  object\n",
      " 1   City                                               218985 non-null  object\n",
      " 2   State                                              218988 non-null  object\n",
      " 3   Model Year                                         218988 non-null  int64 \n",
      " 4   Make                                               218988 non-null  object\n",
      " 5   Model                                              218988 non-null  object\n",
      " 6   Electric Vehicle Type                              218988 non-null  object\n",
      " 7   Clean Alternative Fuel Vehicle (CAFV) Eligibility  218988 non-null  object\n",
      " 8   Electric Utility                                   218985 non-null  object\n",
      "dtypes: int64(1), object(8)\n",
      "memory usage: 16.7+ MB\n",
      "None\n"
     ]
    }
   ],
   "source": [
    "print (df.info())"
   ]
  },
  {
   "cell_type": "code",
   "execution_count": null,
   "id": "cccdd406-479e-4fe6-90d7-ed23bde1467d",
   "metadata": {},
   "outputs": [],
   "source": []
  }
 ],
 "metadata": {
  "kernelspec": {
   "display_name": "Python [conda env:base] *",
   "language": "python",
   "name": "conda-base-py"
  },
  "language_info": {
   "codemirror_mode": {
    "name": "ipython",
    "version": 3
   },
   "file_extension": ".py",
   "mimetype": "text/x-python",
   "name": "python",
   "nbconvert_exporter": "python",
   "pygments_lexer": "ipython3",
   "version": "3.12.7"
  }
 },
 "nbformat": 4,
 "nbformat_minor": 5
}
